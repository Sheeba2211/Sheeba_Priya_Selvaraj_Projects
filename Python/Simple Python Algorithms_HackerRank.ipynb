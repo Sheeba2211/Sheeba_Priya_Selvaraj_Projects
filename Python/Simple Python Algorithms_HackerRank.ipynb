{
 "cells": [
  {
   "cell_type": "code",
   "execution_count": 6,
   "id": "ad0f6e5f",
   "metadata": {},
   "outputs": [],
   "source": [
    "import math\n",
    "import os\n",
    "import random\n",
    "import re\n",
    "import sys"
   ]
  },
  {
   "cell_type": "code",
   "execution_count": 7,
   "id": "8020f9a5",
   "metadata": {},
   "outputs": [
    {
     "name": "stdin",
     "output_type": "stream",
     "text": [
      " 5\n",
      " 7\n"
     ]
    },
    {
     "name": "stdout",
     "output_type": "stream",
     "text": [
      "12\n"
     ]
    }
   ],
   "source": [
    "#addition using function\n",
    "\n",
    "def solveMeFirst(a,b):\n",
    "        sum = a + b\n",
    "        return sum # Hint: Type return a+b below\n",
    "\n",
    "num1 = int(input())\n",
    "num2 = int(input())\n",
    "res = solveMeFirst(num1,num2)\n",
    "print(res)"
   ]
  },
  {
   "cell_type": "code",
   "execution_count": 2,
   "id": "64a908df",
   "metadata": {},
   "outputs": [],
   "source": [
    "#sum of the elements of array\n",
    "\n",
    "def simpleArraySum(ar):\n",
    "    sum = 0\n",
    "    for i in range(len(ar)):\n",
    "        sum += ar[i]\n",
    "    return (sum)"
   ]
  },
  {
   "cell_type": "code",
   "execution_count": null,
   "id": "c4dceeb3",
   "metadata": {},
   "outputs": [],
   "source": [
    "def aVeryBigSum(ar):\n",
    "    sum = 0\n",
    "    for i in range(len(ar)):\n",
    "        sum += ar[i]\n",
    "    return int(sum)"
   ]
  },
  {
   "cell_type": "code",
   "execution_count": null,
   "id": "f00f620d",
   "metadata": {},
   "outputs": [],
   "source": [
    "#comparing elements of two arrays\n",
    "\n",
    "def compareTriplets(a, b):\n",
    "    score= [0,0]\n",
    "    for i in range(len(a)):\n",
    "        if a[i] > b[i]:\n",
    "            score[0] +=1\n",
    "        elif a[i] < b[i]:\n",
    "            score[1] +=1\n",
    "        else:\n",
    "            pass\n",
    "    return score"
   ]
  },
  {
   "cell_type": "code",
   "execution_count": null,
   "id": "85d9de09",
   "metadata": {},
   "outputs": [],
   "source": [
    "# adding the variables of each diagonals in an array and finding the absolute difference\n",
    "\n",
    "def diagonalDifference(arr):\n",
    "    pdiagonal = [arr[i][i] for i in range(len(arr))]\n",
    "    primary_diagonal = 0\n",
    "    for j in range(len(pdiagonal)):\n",
    "        primary_diagonal += pdiagonal[j]\n",
    "    rev_arr = arr[::-1]\n",
    "    sdiagonal = [rev_arr[k][k] for k in range(len(rev_arr))]\n",
    "    secondary_diagonal = 0\n",
    "    for l in range(len(sdiagonal)):\n",
    "        secondary_diagonal += sdiagonal[l]\n",
    "    Absolute_diff = abs(primary_diagonal-secondary_diagonal)\n",
    "    return Absolute_diff"
   ]
  },
  {
   "cell_type": "code",
   "execution_count": 11,
   "id": "d759a439",
   "metadata": {},
   "outputs": [],
   "source": [
    "#finding ratio of the positives numbers, negative numbers and zeros in an array\n",
    "\n",
    "def plusMinus(arr):\n",
    "    total_num = len(arr)\n",
    "    countp = 0\n",
    "    countn = 0\n",
    "    countz = 0\n",
    "    for i in range(len(arr)):\n",
    "        if arr[i] > 0:\n",
    "            countp += 1\n",
    "        elif arr[i] < 0:\n",
    "            countn += 1 \n",
    "        else:\n",
    "            countz += 1\n",
    "    p_ratio = countp/total_num\n",
    "    n_ratio = countn/total_num\n",
    "    z_ratio = countz/total_num\n",
    "    print (\"%.6f\"%p_ratio)\n",
    "    print(\"%.6f\"%n_ratio)\n",
    "    print(\"%.6f\"%z_ratio)"
   ]
  },
  {
   "cell_type": "code",
   "execution_count": 13,
   "id": "09f33c72",
   "metadata": {},
   "outputs": [
    {
     "name": "stdin",
     "output_type": "stream",
     "text": [
      " 5\n"
     ]
    },
    {
     "name": "stdout",
     "output_type": "stream",
     "text": [
      "    #\n",
      "   ##\n",
      "  ###\n",
      " ####\n",
      "#####\n"
     ]
    }
   ],
   "source": [
    "# making staircase for the number given as input\n",
    "\n",
    "def staircase(n):\n",
    "    for i, j in zip(range(n-1,-1,-1), range(1,n+1)):\n",
    "        print(' '*i+'#'*j)\n",
    "        \n",
    "        \n",
    "\n",
    "\n",
    "if __name__ == '__main__':\n",
    "    n = int(input().strip())\n",
    "\n",
    "    staircase(n)\n",
    "\n"
   ]
  },
  {
   "cell_type": "code",
   "execution_count": 12,
   "id": "578aeb46",
   "metadata": {},
   "outputs": [
    {
     "name": "stdin",
     "output_type": "stream",
     "text": [
      " 5\n"
     ]
    },
    {
     "name": "stdout",
     "output_type": "stream",
     "text": [
      "    #\n",
      "   ##\n",
      "  ###\n",
      " ####\n",
      "#####\n"
     ]
    }
   ],
   "source": [
    "def staircase(n):\n",
    "    for i in range(1,n+1):\n",
    "        j = n -i\n",
    "        print(' '*j+'#'*i)\n",
    "        \n",
    "        \n",
    "\n",
    "\n",
    "if __name__ == '__main__':\n",
    "    n = int(input().strip())\n",
    "\n",
    "    staircase(n)"
   ]
  },
  {
   "cell_type": "code",
   "execution_count": 21,
   "id": "b92675a6",
   "metadata": {},
   "outputs": [
    {
     "name": "stdin",
     "output_type": "stream",
     "text": [
      " 34 5 64 575 35\n"
     ]
    },
    {
     "name": "stdout",
     "output_type": "stream",
     "text": [
      "138 708\n"
     ]
    }
   ],
   "source": [
    "#difference between the max and min sum of the one less digits in a given array\n",
    "\n",
    "def miniMaxSum(arr):\n",
    "    max_sum = sum(arr) - min(arr)\n",
    "    min_sum = sum(arr) - max(arr)\n",
    "    print(int(min_sum),int(max_sum))\n",
    "    \n",
    "        \n",
    "if __name__ == '__main__':\n",
    "\n",
    "    arr = list(map(int, input().rstrip().split()))\n",
    "\n",
    "    miniMaxSum(arr)"
   ]
  },
  {
   "cell_type": "code",
   "execution_count": null,
   "id": "a05a9b2e",
   "metadata": {},
   "outputs": [],
   "source": [
    "#finding the number of max highest numbers in the array\n",
    "\n",
    "def birthdayCakeCandles(candles):\n",
    "    tall_count = 0\n",
    "    max_hgt = max(candles)\n",
    "    for i in range(len(candles)):\n",
    "        if candles[i] == max_hgt:\n",
    "            tall_count += 1\n",
    "    return tall_count\n",
    "    \n",
    "\n",
    "if __name__ == '__main__':\n",
    "    fptr = open(os.environ['OUTPUT_PATH'], 'w')\n",
    "\n",
    "    candles_count = int(input().strip())\n",
    "\n",
    "    candles = list(map(int, input().rstrip().split()))\n",
    "\n",
    "    result = birthdayCakeCandles(candles)\n",
    "\n",
    "    fptr.write(str(result) + '\\n')\n",
    "\n",
    "    fptr.close()"
   ]
  },
  {
   "cell_type": "code",
   "execution_count": 3,
   "id": "c652efa7",
   "metadata": {},
   "outputs": [
    {
     "name": "stdin",
     "output_type": "stream",
     "text": [
      "Number: 15\n"
     ]
    },
    {
     "name": "stdout",
     "output_type": "stream",
     "text": [
      "1\n",
      "2\n",
      "Fizz\n",
      "4\n",
      "Buzz\n",
      "Fizz\n",
      "7\n",
      "8\n",
      "Fizz\n",
      "Buzz\n",
      "11\n",
      "Fizz\n",
      "13\n",
      "14\n",
      "FizzBuzz\n"
     ]
    }
   ],
   "source": [
    "def fizzBuzz(n):\n",
    "    for i in range (1, n+1):\n",
    "        if i%3 == 0:\n",
    "            if i%5 == 0:\n",
    "                print ('FizzBuzz')\n",
    "            else:\n",
    "                print ('Fizz') \n",
    "        elif i%3 != 0:\n",
    "            if i%5 == 0:\n",
    "                print ('Buzz')\n",
    "            else:\n",
    "                print (i)\n",
    "    #return i \n",
    "fizzBuzz(n = int(input(\"Number:\")))\n"
   ]
  },
  {
   "cell_type": "code",
   "execution_count": null,
   "id": "8057caba",
   "metadata": {},
   "outputs": [],
   "source": [
    "#converting 12 hrs format to 24 hrs format\n",
    "\n",
    "def timeConversion(s):\n",
    "    if s[-2:] == \"AM\" and s[:2] == \"12\":\n",
    "        return \"00\" + s[2:-2]\n",
    "    elif s[-2:] == \"AM\":\n",
    "        return s[:-2]\n",
    "    elif s[-2:] == \"PM\" and s[:2] == \"12\":\n",
    "        return s[:-2]\n",
    "    else:\n",
    "        return str(int(s[:2]) + 12) + s[2:-2]\n",
    "\n",
    "if __name__ == '__main__':\n",
    "    fptr = open(os.environ['OUTPUT_PATH'], 'w')\n",
    "\n",
    "    s = input()\n",
    "\n",
    "    result = timeConversion(s)\n",
    "\n",
    "    fptr.write(result + '\\n')\n",
    "\n",
    "    fptr.close()"
   ]
  },
  {
   "cell_type": "code",
   "execution_count": 254,
   "id": "94e47cb3-3223-4f56-9937-c1131a303a6e",
   "metadata": {},
   "outputs": [
    {
     "name": "stdout",
     "output_type": "stream",
     "text": [
      "Status : Pass\n",
      "Status : Pass\n",
      "Status : Pass\n",
      "Status : Too many Req\n",
      "Status : Pass\n",
      "Status : Too many Req\n",
      "Status : Pass\n",
      "Status : Pass\n",
      "Status : Pass\n",
      "Status : Pass\n",
      "Status : Too many Req\n"
     ]
    }
   ],
   "source": [
    "requests = [\"a\",\"f\",\"a\",\"a\",\"h\",\"a\",\"g\",\"e\",\"g\",\"f\",\"g\"]\n",
    "\n",
    "def checkpoint(requests):\n",
    "    n = len(requests)\n",
    "    dict_five = {}\n",
    "    dict_thirty = {}\n",
    "    for i in range (0,n):\n",
    "        dict_five.update({requests[i]:requests[0:i+1].count(requests[i])})\n",
    "        dict_thirty.update({requests[i]:requests[0:i+1].count(requests[i])})\n",
    "        l = i - 4\n",
    "        m = i - 29\n",
    "        if l >= 0:   # i = 5 \n",
    "            dict_five.update({requests[i]:requests[l:i+1].count(requests[i])})\n",
    "        if m >= 0:\n",
    "            dict_thirty.update({requests[i]:requests[m:i+1].count(requests[i])})\n",
    "        if  (dict_five[requests[i]]) > 2 or (dict_thirty[requests[i]]) > 5:   \n",
    "            print (\"Status : Too many Req\")\n",
    "        else:\n",
    "            print (\"Status : Pass\")\n",
    "\n",
    "\n",
    "checkpoint(requests)   \n",
    "\n",
    "      "
   ]
  },
  {
   "cell_type": "code",
   "execution_count": 264,
   "id": "92637f29-f1dd-4d63-a310-b4f731496dca",
   "metadata": {},
   "outputs": [
    {
     "ename": "IndexError",
     "evalue": "list assignment index out of range",
     "output_type": "error",
     "traceback": [
      "\u001b[1;31m---------------------------------------------------------------------------\u001b[0m",
      "\u001b[1;31mIndexError\u001b[0m                                Traceback (most recent call last)",
      "Cell \u001b[1;32mIn[264], line 22\u001b[0m\n\u001b[0;32m     18\u001b[0m         \u001b[38;5;28;01melse\u001b[39;00m:\n\u001b[0;32m     19\u001b[0m             \u001b[38;5;28mprint\u001b[39m (\u001b[38;5;124m\"\u001b[39m\u001b[38;5;124mStatus : Pass\u001b[39m\u001b[38;5;124m\"\u001b[39m)\n\u001b[1;32m---> 22\u001b[0m checkpoint(requests)\n",
      "Cell \u001b[1;32mIn[264], line 8\u001b[0m, in \u001b[0;36mcheckpoint\u001b[1;34m(requests)\u001b[0m\n\u001b[0;32m      6\u001b[0m count_thirty \u001b[38;5;241m=\u001b[39m []\n\u001b[0;32m      7\u001b[0m \u001b[38;5;28;01mfor\u001b[39;00m i \u001b[38;5;129;01min\u001b[39;00m \u001b[38;5;28mrange\u001b[39m (\u001b[38;5;241m0\u001b[39m,n):\n\u001b[1;32m----> 8\u001b[0m     count_five[i] \u001b[38;5;241m=\u001b[39m (requests[\u001b[38;5;241m0\u001b[39m:i]\u001b[38;5;241m.\u001b[39mcount(requests[i]))\n\u001b[0;32m      9\u001b[0m     count_thirty[i] \u001b[38;5;241m=\u001b[39m requests[\u001b[38;5;241m0\u001b[39m:i]\u001b[38;5;241m.\u001b[39mcount(requests[i])\n\u001b[0;32m     10\u001b[0m     l \u001b[38;5;241m=\u001b[39m i \u001b[38;5;241m-\u001b[39m \u001b[38;5;241m4\u001b[39m\n",
      "\u001b[1;31mIndexError\u001b[0m: list assignment index out of range"
     ]
    }
   ],
   "source": [
    "requests = [\"a\",\"f\",\"a\",\"a\",\"h\",\"a\",\"g\",\"e\",\"g\",\"f\",\"g\"]\n",
    "\n",
    "def checkpoint(requests):\n",
    "    n = len(requests)\n",
    "    count_five = []\n",
    "    count_thirty = []\n",
    "    for i in range (0,n):\n",
    "        count_five[i] = (requests[0:i].count(requests[i]))\n",
    "        count_thirty[i] = requests[0:i].count(requests[i])\n",
    "        l = i - 4\n",
    "        m = i - 29\n",
    "        if l >= 0:   # i = 5 \n",
    "            count_five[i]=requests[l:i].count(requests[i])\n",
    "        if m >= 0:\n",
    "            count_thirty[i] = requests[m:i].count(requests[i])\n",
    "        if  count_five[i] > 2 or count_thirty[i] > 5:   \n",
    "            print (\"Status : Too many Req\")\n",
    "        else:\n",
    "            print (\"Status : Pass\")\n",
    "\n",
    "\n",
    "checkpoint(requests)   \n",
    "\n",
    "      "
   ]
  },
  {
   "cell_type": "code",
   "execution_count": 176,
   "id": "e7c70a7d-7596-4d33-9d20-8e4ac0bb4b88",
   "metadata": {},
   "outputs": [
    {
     "name": "stdout",
     "output_type": "stream",
     "text": [
      "{'a': 4}\n",
      "{'a': 4, 'f': 2}\n",
      "{'a': 4, 'f': 2}\n",
      "{'a': 4, 'f': 2}\n",
      "{'a': 4, 'f': 2, 'h': 1}\n",
      "{'a': 4, 'f': 2, 'h': 1}\n",
      "{'a': 4, 'f': 2, 'h': 1, 'g': 3}\n",
      "{'a': 4, 'f': 2, 'h': 1, 'g': 3, 'e': 1}\n",
      "{'a': 4, 'f': 2, 'h': 1, 'g': 3, 'e': 1}\n",
      "{'a': 4, 'f': 2, 'h': 1, 'g': 3, 'e': 1}\n",
      "{'a': 4, 'f': 2, 'h': 1, 'g': 3, 'e': 1}\n"
     ]
    }
   ],
   "source": [
    "requests = [\"a\",\"f\",\"a\",\"a\",\"h\",\"a\",\"g\",\"e\",\"g\",\"f\",\"g\"]\n",
    "n = len(requests)\n",
    "count_five = 0\n",
    "count_thirty =0\n",
    "dict_five = {}\n",
    "dict_thirty = {}\n",
    "for i in range (0,n):\n",
    "    dict_five.update({requests[i]:requests.count(requests[i])})\n",
    "    #dict_thirty.update({requests[i]:[]})\n",
    "    print (dict_five)\n",
    "#print (n)\n",
    "#print (dict_five)\n",
    "#print (dict_thirty)\n",
    "#print(requests[1], dict_five[requests[1]])\n"
   ]
  },
  {
   "cell_type": "code",
   "execution_count": 252,
   "id": "4ee0d1de-b752-4504-bb51-267cf05072d9",
   "metadata": {},
   "outputs": [
    {
     "name": "stdout",
     "output_type": "stream",
     "text": [
      "Status : Pass\n",
      "Status : Pass\n",
      "Status : Pass\n",
      "Status : Too many Req\n",
      "Status : Pass\n",
      "Status : Too many Req\n",
      "Status : Pass\n",
      "Status : Pass\n",
      "Status : Pass\n",
      "Status : Pass\n",
      "Status : Too many Req\n"
     ]
    }
   ],
   "source": [
    "requests = [\"a\",\"f\",\"a\",\"a\",\"h\",\"a\",\"g\",\"e\",\"g\",\"f\",\"g\"]\n",
    "#requests = ['a','b','c','d','e','f','g','h','i','j','k','l']\n",
    "n = len(requests)\n",
    "dict_five = {}\n",
    "dict_thirty = {}\n",
    "for i in range (0,n):\n",
    "    dict_five.update({requests[i]:requests[0:i+1].count(requests[i])})\n",
    "    #print(dict_five)\n",
    "    l = i-4\n",
    "    if l>=0:\n",
    "        dict_five.update({requests[i]:requests[l:i+1].count(requests[i])})\n",
    "    #dict_thirty.update({requests[i]:[]})\n",
    "    if  (dict_five[requests[i]]) > 2:  # or count_thirty[i] > 5:   \n",
    "        print (\"Status : Too many Req\")\n",
    "    else:\n",
    "        print (\"Status : Pass\")\n",
    "       # print (dict_five)\n",
    "\n"
   ]
  },
  {
   "cell_type": "code",
   "execution_count": 248,
   "id": "b3fea6b2-d3af-454a-9698-bf1ca02a0a6c",
   "metadata": {},
   "outputs": [
    {
     "name": "stdout",
     "output_type": "stream",
     "text": [
      "1\n",
      "1\n",
      "2\n",
      "3\n",
      "1\n",
      "3\n",
      "1\n",
      "1\n",
      "2\n",
      "1\n",
      "3\n"
     ]
    }
   ],
   "source": [
    "requests = [\"a\",\"f\",\"a\",\"a\",\"h\",\"a\",\"g\",\"e\",\"g\",\"f\",\"g\"]\n",
    "#requests = ['a','b','c','d','e','f','g','h','i','j','k','l']\n",
    "n = len(requests)\n",
    "dict_five = {}\n",
    "dict_thirty = {}\n",
    "for i in range (0,n):\n",
    "    dict_five.update({requests[i]:requests[0:i+1].count(requests[i])})\n",
    "    #dict_five[requests[i]] = int(dict_five[requests[i]])    #print(dict_five)\n",
    "    l = i-4\n",
    "    if l>=0:\n",
    "        dict_five.update({requests[i]:requests[l:i+1].count(requests[i])})\n",
    "    #dict_thirty.update({requests[i]:[]})\n",
    "    print(dict_five[requests[i]]) #> 2:  # or count_thirty[i] > 5:   \n",
    "       \n"
   ]
  },
  {
   "cell_type": "code",
   "execution_count": 238,
   "id": "c16bca1f-d14a-4099-8525-e29cf54cee85",
   "metadata": {},
   "outputs": [
    {
     "name": "stdout",
     "output_type": "stream",
     "text": [
      "[4]\n",
      "[2]\n",
      "[4]\n",
      "[4]\n",
      "[1]\n",
      "[4]\n"
     ]
    }
   ],
   "source": [
    "requests = [\"a\",\"f\",\"a\",\"a\",\"h\",\"a\",\"g\",\"e\",\"g\",\"f\",\"g\"]\n",
    "n = len(requests)\n",
    "l = 0\n",
    "m = 0\n",
    "count_five = 0\n",
    "#count_thirty =0\n",
    "dict_five = {}\n",
    "#dict_thirty = {}\n",
    "for i in range (0,n):\n",
    "    dict_five.update({requests[i]:[requests.count(requests[i])]})\n",
    "    #dict_thirty.update({requests[i]:[]})\n",
    "    l = i - 5\n",
    "    #m = i - 30\n",
    "    if l>=0:\n",
    "        print (dict_five[requests[l]])\n",
    "        \n",
    "    \n",
    "    \n",
    "\n",
    "\n",
    "#print (dict_thirty)\n",
    "\n"
   ]
  },
  {
   "cell_type": "code",
   "execution_count": null,
   "id": "6f29e463-c0d2-4e98-8a8f-40af28a357a0",
   "metadata": {},
   "outputs": [],
   "source": []
  }
 ],
 "metadata": {
  "kernelspec": {
   "display_name": "Python 3 (ipykernel)",
   "language": "python",
   "name": "python3"
  },
  "language_info": {
   "codemirror_mode": {
    "name": "ipython",
    "version": 3
   },
   "file_extension": ".py",
   "mimetype": "text/x-python",
   "name": "python",
   "nbconvert_exporter": "python",
   "pygments_lexer": "ipython3",
   "version": "3.12.4"
  }
 },
 "nbformat": 4,
 "nbformat_minor": 5
}
