{
 "cells": [
  {
   "cell_type": "code",
   "execution_count": 6,
   "id": "ad0f6e5f",
   "metadata": {},
   "outputs": [],
   "source": [
    "import math\n",
    "import os\n",
    "import random\n",
    "import re\n",
    "import sys"
   ]
  },
  {
   "cell_type": "code",
   "execution_count": 7,
   "id": "8020f9a5",
   "metadata": {},
   "outputs": [
    {
     "name": "stdin",
     "output_type": "stream",
     "text": [
      " 5\n",
      " 7\n"
     ]
    },
    {
     "name": "stdout",
     "output_type": "stream",
     "text": [
      "12\n"
     ]
    }
   ],
   "source": [
    "#addition using function\n",
    "\n",
    "def solveMeFirst(a,b):\n",
    "        sum = a + b\n",
    "        return sum # Hint: Type return a+b below\n",
    "\n",
    "num1 = int(input())\n",
    "num2 = int(input())\n",
    "res = solveMeFirst(num1,num2)\n",
    "print(res)"
   ]
  },
  {
   "cell_type": "code",
   "execution_count": 2,
   "id": "64a908df",
   "metadata": {},
   "outputs": [],
   "source": [
    "#sum of the elements of array\n",
    "\n",
    "def simpleArraySum(ar):\n",
    "    sum = 0\n",
    "    for i in range(len(ar)):\n",
    "        sum += ar[i]\n",
    "    return (sum)"
   ]
  },
  {
   "cell_type": "code",
   "execution_count": null,
   "id": "c4dceeb3",
   "metadata": {},
   "outputs": [],
   "source": [
    "def aVeryBigSum(ar):\n",
    "    sum = 0\n",
    "    for i in range(len(ar)):\n",
    "        sum += ar[i]\n",
    "    return int(sum)"
   ]
  },
  {
   "cell_type": "code",
   "execution_count": null,
   "id": "f00f620d",
   "metadata": {},
   "outputs": [],
   "source": [
    "#comparing elements of two arrays\n",
    "\n",
    "def compareTriplets(a, b):\n",
    "    score= [0,0]\n",
    "    for i in range(len(a)):\n",
    "        if a[i] > b[i]:\n",
    "            score[0] +=1\n",
    "        elif a[i] < b[i]:\n",
    "            score[1] +=1\n",
    "        else:\n",
    "            pass\n",
    "    return score"
   ]
  },
  {
   "cell_type": "code",
   "execution_count": null,
   "id": "85d9de09",
   "metadata": {},
   "outputs": [],
   "source": [
    "# adding the variables of each diagonals in an array and finding the absolute difference\n",
    "\n",
    "def diagonalDifference(arr):\n",
    "    pdiagonal = [arr[i][i] for i in range(len(arr))]\n",
    "    primary_diagonal = 0\n",
    "    for j in range(len(pdiagonal)):\n",
    "        primary_diagonal += pdiagonal[j]\n",
    "    rev_arr = arr[::-1]\n",
    "    sdiagonal = [rev_arr[k][k] for k in range(len(rev_arr))]\n",
    "    secondary_diagonal = 0\n",
    "    for l in range(len(sdiagonal)):\n",
    "        secondary_diagonal += sdiagonal[l]\n",
    "    Absolute_diff = abs(primary_diagonal-secondary_diagonal)\n",
    "    return Absolute_diff"
   ]
  },
  {
   "cell_type": "code",
   "execution_count": 11,
   "id": "d759a439",
   "metadata": {},
   "outputs": [],
   "source": [
    "#finding ratio of the positives numbers, negative numbers and zeros in an array\n",
    "\n",
    "def plusMinus(arr):\n",
    "    total_num = len(arr)\n",
    "    countp = 0\n",
    "    countn = 0\n",
    "    countz = 0\n",
    "    for i in range(len(arr)):\n",
    "        if arr[i] > 0:\n",
    "            countp += 1\n",
    "        elif arr[i] < 0:\n",
    "            countn += 1 \n",
    "        else:\n",
    "            countz += 1\n",
    "    p_ratio = countp/total_num\n",
    "    n_ratio = countn/total_num\n",
    "    z_ratio = countz/total_num\n",
    "    print (\"%.6f\"%p_ratio)\n",
    "    print(\"%.6f\"%n_ratio)\n",
    "    print(\"%.6f\"%z_ratio)"
   ]
  },
  {
   "cell_type": "code",
   "execution_count": 13,
   "id": "09f33c72",
   "metadata": {},
   "outputs": [
    {
     "name": "stdin",
     "output_type": "stream",
     "text": [
      " 5\n"
     ]
    },
    {
     "name": "stdout",
     "output_type": "stream",
     "text": [
      "    #\n",
      "   ##\n",
      "  ###\n",
      " ####\n",
      "#####\n"
     ]
    }
   ],
   "source": [
    "# making staircase for the number given as input\n",
    "\n",
    "def staircase(n):\n",
    "    for i, j in zip(range(n-1,-1,-1), range(1,n+1)):\n",
    "        print(' '*i+'#'*j)\n",
    "        \n",
    "        \n",
    "\n",
    "\n",
    "if __name__ == '__main__':\n",
    "    n = int(input().strip())\n",
    "\n",
    "    staircase(n)\n",
    "\n"
   ]
  },
  {
   "cell_type": "code",
   "execution_count": 12,
   "id": "578aeb46",
   "metadata": {},
   "outputs": [
    {
     "name": "stdin",
     "output_type": "stream",
     "text": [
      " 5\n"
     ]
    },
    {
     "name": "stdout",
     "output_type": "stream",
     "text": [
      "    #\n",
      "   ##\n",
      "  ###\n",
      " ####\n",
      "#####\n"
     ]
    }
   ],
   "source": [
    "def staircase(n):\n",
    "    for i in range(1,n+1):\n",
    "        j = n -i\n",
    "        print(' '*j+'#'*i)\n",
    "        \n",
    "        \n",
    "\n",
    "\n",
    "if __name__ == '__main__':\n",
    "    n = int(input().strip())\n",
    "\n",
    "    staircase(n)"
   ]
  },
  {
   "cell_type": "code",
   "execution_count": 21,
   "id": "b92675a6",
   "metadata": {},
   "outputs": [
    {
     "name": "stdin",
     "output_type": "stream",
     "text": [
      " 34 5 64 575 35\n"
     ]
    },
    {
     "name": "stdout",
     "output_type": "stream",
     "text": [
      "138 708\n"
     ]
    }
   ],
   "source": [
    "#difference between the max and min sum of the one less digits in a given array\n",
    "\n",
    "def miniMaxSum(arr):\n",
    "    max_sum = sum(arr) - min(arr)\n",
    "    min_sum = sum(arr) - max(arr)\n",
    "    print(int(min_sum),int(max_sum))\n",
    "    \n",
    "        \n",
    "if __name__ == '__main__':\n",
    "\n",
    "    arr = list(map(int, input().rstrip().split()))\n",
    "\n",
    "    miniMaxSum(arr)"
   ]
  },
  {
   "cell_type": "code",
   "execution_count": null,
   "id": "a05a9b2e",
   "metadata": {},
   "outputs": [],
   "source": [
    "#finding the number of max highest numbers in the array\n",
    "\n",
    "def birthdayCakeCandles(candles):\n",
    "    tall_count = 0\n",
    "    max_hgt = max(candles)\n",
    "    for i in range(len(candles)):\n",
    "        if candles[i] == max_hgt:\n",
    "            tall_count += 1\n",
    "    return tall_count\n",
    "    \n",
    "\n",
    "if __name__ == '__main__':\n",
    "    fptr = open(os.environ['OUTPUT_PATH'], 'w')\n",
    "\n",
    "    candles_count = int(input().strip())\n",
    "\n",
    "    candles = list(map(int, input().rstrip().split()))\n",
    "\n",
    "    result = birthdayCakeCandles(candles)\n",
    "\n",
    "    fptr.write(str(result) + '\\n')\n",
    "\n",
    "    fptr.close()"
   ]
  },
  {
   "cell_type": "code",
   "execution_count": 3,
   "id": "c652efa7",
   "metadata": {},
   "outputs": [
    {
     "name": "stdin",
     "output_type": "stream",
     "text": [
      "Number: 15\n"
     ]
    },
    {
     "name": "stdout",
     "output_type": "stream",
     "text": [
      "1\n",
      "2\n",
      "Fizz\n",
      "4\n",
      "Buzz\n",
      "Fizz\n",
      "7\n",
      "8\n",
      "Fizz\n",
      "Buzz\n",
      "11\n",
      "Fizz\n",
      "13\n",
      "14\n",
      "FizzBuzz\n"
     ]
    }
   ],
   "source": [
    "def fizzBuzz(n):\n",
    "    for i in range (1, n+1):\n",
    "        if i%3 == 0:\n",
    "            if i%5 == 0:\n",
    "                print ('FizzBuzz')\n",
    "            else:\n",
    "                print ('Fizz') \n",
    "        elif i%3 != 0:\n",
    "            if i%5 == 0:\n",
    "                print ('Buzz')\n",
    "            else:\n",
    "                print (i)\n",
    "    #return i \n",
    "fizzBuzz(n = int(input(\"Number:\")))\n"
   ]
  },
  {
   "cell_type": "code",
   "execution_count": null,
   "id": "8057caba",
   "metadata": {},
   "outputs": [],
   "source": [
    "#converting 12 hrs format to 24 hrs format\n",
    "\n",
    "def timeConversion(s):\n",
    "    if s[-2:] == \"AM\" and s[:2] == \"12\":\n",
    "        return \"00\" + s[2:-2]\n",
    "    elif s[-2:] == \"AM\":\n",
    "        return s[:-2]\n",
    "    elif s[-2:] == \"PM\" and s[:2] == \"12\":\n",
    "        return s[:-2]\n",
    "    else:\n",
    "        return str(int(s[:2]) + 12) + s[2:-2]\n",
    "\n",
    "if __name__ == '__main__':\n",
    "    fptr = open(os.environ['OUTPUT_PATH'], 'w')\n",
    "\n",
    "    s = input()\n",
    "\n",
    "    result = timeConversion(s)\n",
    "\n",
    "    fptr.write(result + '\\n')\n",
    "\n",
    "    fptr.close()"
   ]
  },
  {
   "cell_type": "code",
   "execution_count": 129,
   "id": "2f6fd57a-d829-4807-bd1a-36349f8dc0ff",
   "metadata": {},
   "outputs": [],
   "source": [
    "#Reduce a string of lowercase characters in range ascii[‘a’..’z’]by doing a series of operations. \n",
    "#In each operation, select a pair of adjacent letters that match, and delete them \n",
    "\n",
    "s = \"helleo\"\n",
    "def superReducedString(s):\n",
    "    # Write your code here\n",
    "    n = len(s)\n",
    "    s_new = []\n",
    "    for i in range (0,n):\n",
    "        s_new.append(s[i])\n",
    "        l = len(s_new)-1\n",
    "        if l>0:\n",
    "            if s_new[l] == s_new[l-1]:\n",
    "                s_new.pop()\n",
    "                s_new.pop()\n",
    "    if len(s_new) == 0:\n",
    "        return \"Empty String\"\n",
    "    else:\n",
    "        return ''.join(s_new)\n",
    " "
   ]
  },
  {
   "cell_type": "code",
   "execution_count": 182,
   "id": "8f7d6706-1490-4e40-8c0c-ec8eb4dc412a",
   "metadata": {},
   "outputs": [
    {
     "name": "stdout",
     "output_type": "stream",
     "text": [
      "ho\n"
     ]
    }
   ],
   "source": [
    "#reduced string - optimized\n",
    "\n",
    "s = \"helleo\"\n",
    "#def superReducedString(s):\n",
    "    # Write your code here\n",
    "n = len(s)\n",
    "s_new = []\n",
    "for i in range (0,n):\n",
    "    if s_new == []:\n",
    "        s_new.append(s[i])    \n",
    "    else:\n",
    "        p = s_new.pop()\n",
    "        if p != s[i]:\n",
    "            s_new.append(p)\n",
    "            s_new.append(s[i])\n",
    "\n",
    "if len(s_new) == 0:\n",
    "    print (\"Empty String\")\n",
    "else:\n",
    "    print (''.join(s_new))\n"
   ]
  },
  {
   "cell_type": "code",
   "execution_count": 218,
   "id": "569b67df-431f-4b87-b57f-5cd97eee997e",
   "metadata": {},
   "outputs": [
    {
     "name": "stdout",
     "output_type": "stream",
     "text": [
      "5\n"
     ]
    }
   ],
   "source": [
    "#CamelCase\n",
    "\n",
    "s = \"saveChangesInTheEditor\"\n",
    "s_words = []\n",
    "s_count =1\n",
    "for i in s:\n",
    "    if i.isupper():\n",
    "        s_words += \" \" + i\n",
    "        s_count += 1\n",
    "    else:\n",
    "        s_words += i\n",
    "print (s_count)\n"
   ]
  },
  {
   "cell_type": "code",
   "execution_count": null,
   "id": "c3d04948-f0a8-4404-b598-869fb73575c1",
   "metadata": {},
   "outputs": [],
   "source": [
    "# Class vs. Instance\n",
    "\n",
    "class Person:\n",
    "    def __init__(self,initialAge):\n",
    "        # Add some more code to run some checks on initialAge\n",
    "        self.initialAge = initialAge\n",
    "        #if initialAge < 0:\n",
    "            \n",
    "            \n",
    "        \n",
    "    def amIOld(self):\n",
    "        # Do some computations in here and print out the correct statement to the console\n",
    "        if p.initialAge < 0:\n",
    "            print (\"Age is not valid, setting age to 0.\")\n",
    "            p.initialAge = 0\n",
    "        if p.initialAge >= 0 and p.initialAge < 13:\n",
    "            print (\"You are young.\")\n",
    "        elif p.initialAge >= 13 and p.initialAge <18:\n",
    "            print(\"You are a teenager.\")\n",
    "        else:\n",
    "            print(\"You are old.\")\n",
    "        \n",
    "    def yearPasses(self):\n",
    "        p.initialAge += 1\n",
    "\n",
    "# Increment the age of the person in here\n",
    "\n",
    "t = int(input())\n",
    "for i in range(0, t):\n",
    "    age = int(input())         \n",
    "    p = Person(age)  \n",
    "    p.amIOld()\n",
    "    for j in range(0, 3):\n",
    "        p.yearPasses()       \n",
    "    p.amIOld()\n",
    "    print(\"\")"
   ]
  },
  {
   "cell_type": "code",
   "execution_count": 170,
   "id": "94e47cb3-3223-4f56-9937-c1131a303a6e",
   "metadata": {},
   "outputs": [
    {
     "name": "stdout",
     "output_type": "stream",
     "text": [
      "Status : Pass\n",
      "Status : Pass\n",
      "Status : Pass\n",
      "Status : Too many Req\n",
      "Status : Pass\n",
      "Status : Too many Req\n",
      "Status : Pass\n",
      "Status : Pass\n",
      "Status : Pass\n",
      "Status : Pass\n",
      "Status : Too many Req\n"
     ]
    }
   ],
   "source": [
    "requests = [\"a\",\"f\",\"a\",\"a\",\"h\",\"a\",\"g\",\"e\",\"g\",\"f\",\"g\"]\n",
    "\n",
    "def checkpoint(requests):\n",
    "    n = len(requests)\n",
    "    dict_five = {}\n",
    "    dict_thirty = {}\n",
    "    for i in range (0,n):\n",
    "        \n",
    "\n",
    "        l = i - 4\n",
    "        m = i - 29\n",
    "        if l >= 0:   # i = 5 \n",
    "            dict_five.update({requests[i]:requests[l:i+1].count(requests[i])})\n",
    "        else:\n",
    "            dict_five.update({requests[i]:requests[0:i+1].count(requests[i])})\n",
    "        if m >= 0:\n",
    "            dict_thirty.update({requests[i]:requests[m:i+1].count(requests[i])})\n",
    "        else:\n",
    "            dict_thirty.update({requests[i]:requests[0:i+1].count(requests[i])})\n",
    "        if  (dict_five[requests[i]]) > 2 or (dict_thirty[requests[i]]) > 5:   \n",
    "            print (\"Status : Too many Req\")\n",
    "        else:\n",
    "            print (\"Status : Pass\")\n",
    "\n",
    "\n",
    "checkpoint(requests)   \n",
    "\n",
    "      "
   ]
  },
  {
   "cell_type": "code",
   "execution_count": 176,
   "id": "e7c70a7d-7596-4d33-9d20-8e4ac0bb4b88",
   "metadata": {},
   "outputs": [
    {
     "name": "stdout",
     "output_type": "stream",
     "text": [
      "{'a': 4}\n",
      "{'a': 4, 'f': 2}\n",
      "{'a': 4, 'f': 2}\n",
      "{'a': 4, 'f': 2}\n",
      "{'a': 4, 'f': 2, 'h': 1}\n",
      "{'a': 4, 'f': 2, 'h': 1}\n",
      "{'a': 4, 'f': 2, 'h': 1, 'g': 3}\n",
      "{'a': 4, 'f': 2, 'h': 1, 'g': 3, 'e': 1}\n",
      "{'a': 4, 'f': 2, 'h': 1, 'g': 3, 'e': 1}\n",
      "{'a': 4, 'f': 2, 'h': 1, 'g': 3, 'e': 1}\n",
      "{'a': 4, 'f': 2, 'h': 1, 'g': 3, 'e': 1}\n"
     ]
    }
   ],
   "source": [
    "requests = [\"a\",\"f\",\"a\",\"a\",\"h\",\"a\",\"g\",\"e\",\"g\",\"f\",\"g\"]\n",
    "n = len(requests)\n",
    "count_five = 0\n",
    "count_thirty =0\n",
    "dict_five = {}\n",
    "dict_thirty = {}\n",
    "for i in range (0,n):\n",
    "    dict_five.update({requests[i]:requests.count(requests[i])})\n",
    "    #dict_thirty.update({requests[i]:[]})\n",
    "    print (dict_five)\n",
    "#print (n)\n",
    "#print (dict_five)\n",
    "#print (dict_thirty)\n",
    "#print(requests[1], dict_five[requests[1]])\n"
   ]
  },
  {
   "cell_type": "code",
   "execution_count": 252,
   "id": "4ee0d1de-b752-4504-bb51-267cf05072d9",
   "metadata": {},
   "outputs": [
    {
     "name": "stdout",
     "output_type": "stream",
     "text": [
      "Status : Pass\n",
      "Status : Pass\n",
      "Status : Pass\n",
      "Status : Too many Req\n",
      "Status : Pass\n",
      "Status : Too many Req\n",
      "Status : Pass\n",
      "Status : Pass\n",
      "Status : Pass\n",
      "Status : Pass\n",
      "Status : Too many Req\n"
     ]
    }
   ],
   "source": [
    "requests = [\"a\",\"f\",\"a\",\"a\",\"h\",\"a\",\"g\",\"e\",\"g\",\"f\",\"g\"]\n",
    "#requests = ['a','b','c','d','e','f','g','h','i','j','k','l']\n",
    "n = len(requests)\n",
    "dict_five = {}\n",
    "dict_thirty = {}\n",
    "for i in range (0,n):\n",
    "    dict_five.update({requests[i]:requests[0:i+1].count(requests[i])})\n",
    "    #print(dict_five)\n",
    "    l = i-4\n",
    "    if l>=0:\n",
    "        dict_five.update({requests[i]:requests[l:i+1].count(requests[i])})\n",
    "    #dict_thirty.update({requests[i]:[]})\n",
    "    if  (dict_five[requests[i]]) > 2:  # or count_thirty[i] > 5:   \n",
    "        print (\"Status : Too many Req\")\n",
    "    else:\n",
    "        print (\"Status : Pass\")\n",
    "       # print (dict_five)\n",
    "\n"
   ]
  },
  {
   "cell_type": "code",
   "execution_count": 248,
   "id": "b3fea6b2-d3af-454a-9698-bf1ca02a0a6c",
   "metadata": {},
   "outputs": [
    {
     "name": "stdout",
     "output_type": "stream",
     "text": [
      "1\n",
      "1\n",
      "2\n",
      "3\n",
      "1\n",
      "3\n",
      "1\n",
      "1\n",
      "2\n",
      "1\n",
      "3\n"
     ]
    }
   ],
   "source": [
    "requests = [\"a\",\"f\",\"a\",\"a\",\"h\",\"a\",\"g\",\"e\",\"g\",\"f\",\"g\"]\n",
    "#requests = ['a','b','c','d','e','f','g','h','i','j','k','l']\n",
    "n = len(requests)\n",
    "dict_five = {}\n",
    "dict_thirty = {}\n",
    "for i in range (0,n):\n",
    "    dict_five.update({requests[i]:requests[0:i+1].count(requests[i])})\n",
    "    #dict_five[requests[i]] = int(dict_five[requests[i]])    #print(dict_five)\n",
    "    l = i-4\n",
    "    if l>=0:\n",
    "        dict_five.update({requests[i]:requests[l:i+1].count(requests[i])})\n",
    "    #dict_thirty.update({requests[i]:[]})\n",
    "    print(dict_five[requests[i]]) #> 2:  # or count_thirty[i] > 5:   \n",
    "       \n"
   ]
  },
  {
   "cell_type": "code",
   "execution_count": 238,
   "id": "c16bca1f-d14a-4099-8525-e29cf54cee85",
   "metadata": {},
   "outputs": [
    {
     "name": "stdout",
     "output_type": "stream",
     "text": [
      "[4]\n",
      "[2]\n",
      "[4]\n",
      "[4]\n",
      "[1]\n",
      "[4]\n"
     ]
    }
   ],
   "source": [
    "requests = [\"a\",\"f\",\"a\",\"a\",\"h\",\"a\",\"g\",\"e\",\"g\",\"f\",\"g\"]\n",
    "n = len(requests)\n",
    "l = 0\n",
    "m = 0\n",
    "count_five = 0\n",
    "#count_thirty =0\n",
    "dict_five = {}\n",
    "#dict_thirty = {}\n",
    "for i in range (0,n):\n",
    "    dict_five.update({requests[i]:[requests.count(requests[i])]})\n",
    "    #dict_thirty.update({requests[i]:[]})\n",
    "    l = i - 5\n",
    "    #m = i - 30\n",
    "    if l>=0:\n",
    "        print (dict_five[requests[l]])\n",
    "        \n",
    "    \n",
    "    \n",
    "\n",
    "\n",
    "#print (dict_thirty)\n",
    "\n"
   ]
  },
  {
   "cell_type": "code",
   "execution_count": null,
   "id": "bbe5e567-2ea8-4705-85f7-0895ff7b7c58",
   "metadata": {},
   "outputs": [],
   "source": []
  },
  {
   "cell_type": "code",
   "execution_count": null,
   "id": "87b0d2fd-e479-4509-b185-c3cbf431c2a2",
   "metadata": {},
   "outputs": [],
   "source": []
  },
  {
   "cell_type": "code",
   "execution_count": null,
   "id": "c0d59077-7a58-4009-bc16-47a69b6cf45c",
   "metadata": {},
   "outputs": [],
   "source": []
  }
 ],
 "metadata": {
  "kernelspec": {
   "display_name": "Python 3 (ipykernel)",
   "language": "python",
   "name": "python3"
  },
  "language_info": {
   "codemirror_mode": {
    "name": "ipython",
    "version": 3
   },
   "file_extension": ".py",
   "mimetype": "text/x-python",
   "name": "python",
   "nbconvert_exporter": "python",
   "pygments_lexer": "ipython3",
   "version": "3.12.4"
  }
 },
 "nbformat": 4,
 "nbformat_minor": 5
}
