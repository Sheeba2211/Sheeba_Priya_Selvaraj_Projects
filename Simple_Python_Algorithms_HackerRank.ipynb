{
  "cells": [
    {
      "cell_type": "markdown",
      "metadata": {
        "id": "view-in-github",
        "colab_type": "text"
      },
      "source": [
        "<a href=\"https://colab.research.google.com/github/Sheeba2211/Sheeba_Priya_Selvaraj_Projects/blob/main/Simple_Python_Algorithms_HackerRank.ipynb\" target=\"_parent\"><img src=\"https://colab.research.google.com/assets/colab-badge.svg\" alt=\"Open In Colab\"/></a>"
      ]
    },
    {
      "cell_type": "code",
      "execution_count": null,
      "id": "ad0f6e5f",
      "metadata": {
        "id": "ad0f6e5f"
      },
      "outputs": [],
      "source": [
        "import math\n",
        "import os\n",
        "import random\n",
        "import re\n",
        "import sys"
      ]
    },
    {
      "cell_type": "markdown",
      "source": [
        "Addition using function"
      ],
      "metadata": {
        "id": "2warHphliX0n"
      },
      "id": "2warHphliX0n"
    },
    {
      "cell_type": "code",
      "execution_count": null,
      "id": "8020f9a5",
      "metadata": {
        "id": "8020f9a5"
      },
      "outputs": [],
      "source": [
        "\n",
        "\n",
        "def solveMeFirst(a,b):\n",
        "        sum = a + b\n",
        "        return sum # Hint: Type return a+b below\n",
        "\n",
        "num1 = int(input())\n",
        "num2 = int(input())\n",
        "res = solveMeFirst(num1,num2)\n",
        "print(res)"
      ]
    },
    {
      "cell_type": "markdown",
      "source": [
        "Sum of the elements of array"
      ],
      "metadata": {
        "id": "L2C2jE7Iiggv"
      },
      "id": "L2C2jE7Iiggv"
    },
    {
      "cell_type": "code",
      "execution_count": null,
      "id": "64a908df",
      "metadata": {
        "id": "64a908df"
      },
      "outputs": [],
      "source": [
        "\n",
        "\n",
        "def simpleArraySum(ar):\n",
        "    sum = 0\n",
        "    for i in range(len(ar)):\n",
        "        sum += ar[i]\n",
        "    return (sum)"
      ]
    },
    {
      "cell_type": "code",
      "execution_count": null,
      "id": "c4dceeb3",
      "metadata": {
        "id": "c4dceeb3"
      },
      "outputs": [],
      "source": [
        "def aVeryBigSum(ar):\n",
        "    sum = 0\n",
        "    for i in range(len(ar)):\n",
        "        sum += ar[i]\n",
        "    return int(sum)"
      ]
    },
    {
      "cell_type": "markdown",
      "source": [
        "Comparing elements of two arrays"
      ],
      "metadata": {
        "id": "ZI4-K6c6ivXc"
      },
      "id": "ZI4-K6c6ivXc"
    },
    {
      "cell_type": "code",
      "execution_count": null,
      "id": "f00f620d",
      "metadata": {
        "id": "f00f620d"
      },
      "outputs": [],
      "source": [
        "\n",
        "\n",
        "def compareTriplets(a, b):\n",
        "    score= [0,0]\n",
        "    for i in range(len(a)):\n",
        "        if a[i] > b[i]:\n",
        "            score[0] +=1\n",
        "        elif a[i] < b[i]:\n",
        "            score[1] +=1\n",
        "        else:\n",
        "            pass\n",
        "    return score"
      ]
    },
    {
      "cell_type": "markdown",
      "source": [
        "Adding the variables of each diagonals in an array and finding the absolute difference"
      ],
      "metadata": {
        "id": "cFd307BEi0V6"
      },
      "id": "cFd307BEi0V6"
    },
    {
      "cell_type": "code",
      "execution_count": null,
      "id": "85d9de09",
      "metadata": {
        "id": "85d9de09"
      },
      "outputs": [],
      "source": [
        "\n",
        "\n",
        "def diagonalDifference(arr):\n",
        "    pdiagonal = [arr[i][i] for i in range(len(arr))]\n",
        "    primary_diagonal = 0\n",
        "    for j in range(len(pdiagonal)):\n",
        "        primary_diagonal += pdiagonal[j]\n",
        "    rev_arr = arr[::-1]\n",
        "    sdiagonal = [rev_arr[k][k] for k in range(len(rev_arr))]\n",
        "    secondary_diagonal = 0\n",
        "    for l in range(len(sdiagonal)):\n",
        "        secondary_diagonal += sdiagonal[l]\n",
        "    Absolute_diff = abs(primary_diagonal-secondary_diagonal)\n",
        "    return Absolute_diff"
      ]
    },
    {
      "cell_type": "markdown",
      "source": [
        "Finding ratio of the positives numbers, negative numbers and zeros in an array"
      ],
      "metadata": {
        "id": "Y5SQuP31i7Rm"
      },
      "id": "Y5SQuP31i7Rm"
    },
    {
      "cell_type": "code",
      "execution_count": null,
      "id": "d759a439",
      "metadata": {
        "id": "d759a439"
      },
      "outputs": [],
      "source": [
        "\n",
        "\n",
        "def plusMinus(arr):\n",
        "    total_num = len(arr)\n",
        "    countp = 0\n",
        "    countn = 0\n",
        "    countz = 0\n",
        "    for i in range(len(arr)):\n",
        "        if arr[i] > 0:\n",
        "            countp += 1\n",
        "        elif arr[i] < 0:\n",
        "            countn += 1\n",
        "        else:\n",
        "            countz += 1\n",
        "    p_ratio = countp/total_num\n",
        "    n_ratio = countn/total_num\n",
        "    z_ratio = countz/total_num\n",
        "    print (\"%.6f\"%p_ratio)\n",
        "    print(\"%.6f\"%n_ratio)\n",
        "    print(\"%.6f\"%z_ratio)"
      ]
    },
    {
      "cell_type": "markdown",
      "source": [
        "Making staircase for the number given as input"
      ],
      "metadata": {
        "id": "9e8n0DN2i_cq"
      },
      "id": "9e8n0DN2i_cq"
    },
    {
      "cell_type": "code",
      "execution_count": null,
      "id": "09f33c72",
      "metadata": {
        "id": "09f33c72"
      },
      "outputs": [],
      "source": [
        "\n",
        "\n",
        "def staircase(n):\n",
        "    for i, j in zip(range(n-1,-1,-1), range(1,n+1)):\n",
        "        print(' '*i+'#'*j)\n",
        "\n",
        "if __name__ == '__main__':\n",
        "    n = int(input().strip())\n",
        "\n",
        "    staircase(n)\n",
        "\n"
      ]
    },
    {
      "cell_type": "code",
      "execution_count": null,
      "id": "578aeb46",
      "metadata": {
        "id": "578aeb46"
      },
      "outputs": [],
      "source": [
        "def staircase(n):\n",
        "    for i in range(1,n+1):\n",
        "        j = n -i\n",
        "        print(' '*j+'#'*i)\n",
        "\n",
        "if __name__ == '__main__':\n",
        "    n = int(input().strip())\n",
        "\n",
        "    staircase(n)"
      ]
    },
    {
      "cell_type": "markdown",
      "source": [
        "Difference between the max and min sum of the one less digits in a given array"
      ],
      "metadata": {
        "id": "NQExLCd-jDeG"
      },
      "id": "NQExLCd-jDeG"
    },
    {
      "cell_type": "code",
      "execution_count": null,
      "id": "b92675a6",
      "metadata": {
        "id": "b92675a6"
      },
      "outputs": [],
      "source": [
        "\n",
        "\n",
        "def miniMaxSum(arr):\n",
        "    max_sum = sum(arr) - min(arr)\n",
        "    min_sum = sum(arr) - max(arr)\n",
        "    print(int(min_sum),int(max_sum))\n",
        "\n",
        "\n",
        "if __name__ == '__main__':\n",
        "\n",
        "    arr = list(map(int, input().rstrip().split()))\n",
        "\n",
        "    miniMaxSum(arr)"
      ]
    },
    {
      "cell_type": "markdown",
      "source": [
        "Finding the number of max highest numbers in the array"
      ],
      "metadata": {
        "id": "i0TnlgYQjPiq"
      },
      "id": "i0TnlgYQjPiq"
    },
    {
      "cell_type": "code",
      "execution_count": null,
      "id": "a05a9b2e",
      "metadata": {
        "id": "a05a9b2e"
      },
      "outputs": [],
      "source": [
        "\n",
        "\n",
        "def birthdayCakeCandles(candles):\n",
        "    tall_count = 0\n",
        "    max_hgt = max(candles)\n",
        "    for i in range(len(candles)):\n",
        "        if candles[i] == max_hgt:\n",
        "            tall_count += 1\n",
        "    return tall_count\n",
        "\n",
        "\n",
        "if __name__ == '__main__':\n",
        "    fptr = open(os.environ['OUTPUT_PATH'], 'w')\n",
        "\n",
        "    candles_count = int(input().strip())\n",
        "\n",
        "    candles = list(map(int, input().rstrip().split()))\n",
        "\n",
        "    result = birthdayCakeCandles(candles)\n",
        "\n",
        "    fptr.write(str(result) + '\\n')\n",
        "\n",
        "    fptr.close()"
      ]
    },
    {
      "cell_type": "code",
      "execution_count": null,
      "id": "c652efa7",
      "metadata": {
        "id": "c652efa7"
      },
      "outputs": [],
      "source": [
        "def fizzBuzz(n):\n",
        "    for i in range (1, n+1):\n",
        "        if i%3 == 0:\n",
        "            if i%5 == 0:\n",
        "                print ('FizzBuzz')\n",
        "            else:\n",
        "                print ('Fizz')\n",
        "        elif i%3 != 0:\n",
        "            if i%5 == 0:\n",
        "                print ('Buzz')\n",
        "            else:\n",
        "                print (i)\n",
        "    #return i\n",
        "fizzBuzz(n = int(input(\"Number:\")))\n"
      ]
    },
    {
      "cell_type": "markdown",
      "source": [
        "Converting 12 hrs format to 24 hrs format"
      ],
      "metadata": {
        "id": "mXYOWDahjT2p"
      },
      "id": "mXYOWDahjT2p"
    },
    {
      "cell_type": "code",
      "execution_count": null,
      "id": "8057caba",
      "metadata": {
        "id": "8057caba"
      },
      "outputs": [],
      "source": [
        "\n",
        "\n",
        "def timeConversion(s):\n",
        "    if s[-2:] == \"AM\" and s[:2] == \"12\":\n",
        "        return \"00\" + s[2:-2]\n",
        "    elif s[-2:] == \"AM\":\n",
        "        return s[:-2]\n",
        "    elif s[-2:] == \"PM\" and s[:2] == \"12\":\n",
        "        return s[:-2]\n",
        "    else:\n",
        "        return str(int(s[:2]) + 12) + s[2:-2]\n",
        "\n",
        "if __name__ == '__main__':\n",
        "    fptr = open(os.environ['OUTPUT_PATH'], 'w')\n",
        "\n",
        "    s = input()\n",
        "\n",
        "    result = timeConversion(s)\n",
        "\n",
        "    fptr.write(result + '\\n')\n",
        "\n",
        "    fptr.close()"
      ]
    },
    {
      "cell_type": "markdown",
      "source": [
        "Reduce a string of lowercase characters in range ascii[‘a’..’z’]by doing a series of operations.\n",
        "In each operation, select a pair of adjacent letters that match, and delete them"
      ],
      "metadata": {
        "id": "JgAH2aBXjYVt"
      },
      "id": "JgAH2aBXjYVt"
    },
    {
      "cell_type": "code",
      "execution_count": null,
      "id": "2f6fd57a-d829-4807-bd1a-36349f8dc0ff",
      "metadata": {
        "id": "2f6fd57a-d829-4807-bd1a-36349f8dc0ff"
      },
      "outputs": [],
      "source": [
        "\n",
        "\n",
        "s = \"helleo\"\n",
        "def superReducedString(s):\n",
        "    n = len(s)\n",
        "    s_new = []\n",
        "    for i in range (0,n):\n",
        "        s_new.append(s[i])\n",
        "        l = len(s_new)-1\n",
        "        if l>0:\n",
        "            if s_new[l] == s_new[l-1]:\n",
        "                s_new.pop()\n",
        "                s_new.pop()\n",
        "    if len(s_new) == 0:\n",
        "        return \"Empty String\"\n",
        "    else:\n",
        "        return ''.join(s_new)\n",
        ""
      ]
    },
    {
      "cell_type": "markdown",
      "source": [
        "Reduced string - optimized"
      ],
      "metadata": {
        "id": "2fRw3QAGjeZv"
      },
      "id": "2fRw3QAGjeZv"
    },
    {
      "cell_type": "code",
      "execution_count": null,
      "id": "8f7d6706-1490-4e40-8c0c-ec8eb4dc412a",
      "metadata": {
        "id": "8f7d6706-1490-4e40-8c0c-ec8eb4dc412a",
        "outputId": "38794813-2ec0-4877-9681-c397bda3de88"
      },
      "outputs": [
        {
          "name": "stdout",
          "output_type": "stream",
          "text": [
            "ho\n"
          ]
        }
      ],
      "source": [
        "\n",
        "\n",
        "s = \"helleo\"\n",
        "n = len(s)\n",
        "s_new = []\n",
        "for i in range (0,n):\n",
        "    if s_new == []:\n",
        "        s_new.append(s[i])\n",
        "    else:\n",
        "        p = s_new.pop()\n",
        "        if p != s[i]:\n",
        "            s_new.append(p)\n",
        "            s_new.append(s[i])\n",
        "\n",
        "if len(s_new) == 0:\n",
        "    print (\"Empty String\")\n",
        "else:\n",
        "    print (''.join(s_new))\n"
      ]
    },
    {
      "cell_type": "markdown",
      "source": [
        "CamelCase"
      ],
      "metadata": {
        "id": "5KtWlrTwjiY6"
      },
      "id": "5KtWlrTwjiY6"
    },
    {
      "cell_type": "code",
      "execution_count": null,
      "id": "569b67df-431f-4b87-b57f-5cd97eee997e",
      "metadata": {
        "id": "569b67df-431f-4b87-b57f-5cd97eee997e"
      },
      "outputs": [],
      "source": [
        "\n",
        "\n",
        "s = \"saveChangesInTheEditor\"\n",
        "s_words = []\n",
        "s_count =1\n",
        "for i in s:\n",
        "    if i.isupper():\n",
        "        s_words += \" \" + i\n",
        "        s_count += 1\n",
        "    else:\n",
        "        s_words += i\n",
        "print (s_count)\n"
      ]
    },
    {
      "cell_type": "markdown",
      "source": [
        "Class vs. Instance"
      ],
      "metadata": {
        "id": "czO4HQttjnw3"
      },
      "id": "czO4HQttjnw3"
    },
    {
      "cell_type": "code",
      "execution_count": null,
      "id": "c3d04948-f0a8-4404-b598-869fb73575c1",
      "metadata": {
        "id": "c3d04948-f0a8-4404-b598-869fb73575c1"
      },
      "outputs": [],
      "source": [
        "\n",
        "\n",
        "class Person:\n",
        "    def __init__(self,initialAge):\n",
        "        self.initialAge = initialAge\n",
        "\n",
        "    def amIOld(self):\n",
        "        if p.initialAge < 0:\n",
        "            print (\"Age is not valid, setting age to 0.\")\n",
        "            p.initialAge = 0\n",
        "        if p.initialAge >= 0 and p.initialAge < 13:\n",
        "            print (\"You are young.\")\n",
        "        elif p.initialAge >= 13 and p.initialAge <18:\n",
        "            print(\"You are a teenager.\")\n",
        "        else:\n",
        "            print(\"You are old.\")\n",
        "\n",
        "    def yearPasses(self):\n",
        "        p.initialAge += 1\n",
        "\n",
        "# Increment the age of the person in here\n",
        "\n",
        "t = int(input())\n",
        "for i in range(0, t):\n",
        "    age = int(input())\n",
        "    p = Person(age)\n",
        "    p.amIOld()\n",
        "    for j in range(0, 3):\n",
        "        p.yearPasses()\n",
        "    p.amIOld()\n",
        "    print(\"\")"
      ]
    },
    {
      "cell_type": "code",
      "execution_count": null,
      "id": "94e47cb3-3223-4f56-9937-c1131a303a6e",
      "metadata": {
        "id": "94e47cb3-3223-4f56-9937-c1131a303a6e"
      },
      "outputs": [],
      "source": [
        "requests = [\"a\",\"f\",\"a\",\"a\",\"h\",\"a\",\"g\",\"e\",\"g\",\"f\",\"g\"]\n",
        "\n",
        "def checkpoint(requests):\n",
        "    n = len(requests)\n",
        "    dict_five = {}\n",
        "    dict_thirty = {}\n",
        "    for i in range (0,n):\n",
        "        l = i - 4\n",
        "        m = i - 29\n",
        "        if l >= 0:   # i = 5\n",
        "            dict_five.update({requests[i]:requests[l:i+1].count(requests[i])})\n",
        "        else:\n",
        "            dict_five.update({requests[i]:requests[0:i+1].count(requests[i])})\n",
        "        if m >= 0:\n",
        "            dict_thirty.update({requests[i]:requests[m:i+1].count(requests[i])})\n",
        "        else:\n",
        "            dict_thirty.update({requests[i]:requests[0:i+1].count(requests[i])})\n",
        "        if  (dict_five[requests[i]]) > 2 or (dict_thirty[requests[i]]) > 5:\n",
        "            print (\"Status : Too many Req\")\n",
        "        else:\n",
        "            print (\"Status : Pass\")\n",
        "\n",
        "\n",
        "checkpoint(requests)\n",
        "\n",
        ""
      ]
    },
    {
      "cell_type": "markdown",
      "source": [
        "Caesar Cipher"
      ],
      "metadata": {
        "id": "tNbDYO0Sjr4O"
      },
      "id": "tNbDYO0Sjr4O"
    },
    {
      "cell_type": "code",
      "execution_count": null,
      "id": "e7c70a7d-7596-4d33-9d20-8e4ac0bb4b88",
      "metadata": {
        "id": "e7c70a7d-7596-4d33-9d20-8e4ac0bb4b88"
      },
      "outputs": [],
      "source": [
        "\n",
        "\n",
        "import string\n",
        "\n",
        "def caesarCipher(s, k):\n",
        "    vl = list(string.ascii_lowercase)\n",
        "    vu = list(string.ascii_uppercase)\n",
        "    m = \"\"\n",
        "    for j in range(0, n):\n",
        "        if s[j].islower():\n",
        "            vl_values = vl.index(s[j])\n",
        "            m += vl[(vl_values+k)%26]\n",
        "        if s[j].isupper():\n",
        "            vu_values = vu.index(s[j])\n",
        "            m += vu[(vu_values+k)%26]\n",
        "        if s[j].isalpha() is False:\n",
        "            m+=s[j]\n",
        "\n",
        "    return m\n",
        "\n",
        "if __name__ == '__main__':\n",
        "    fptr = open(os.environ['OUTPUT_PATH'], 'w')\n",
        "\n",
        "    n = int(input().strip())\n",
        "\n",
        "    s = input()\n",
        "\n",
        "    k = int(input().strip())\n",
        "\n",
        "    result = caesarCipher(s, k)\n",
        "\n",
        "    fptr.write(result + '\\n')\n",
        "\n",
        "    fptr.close()"
      ]
    },
    {
      "cell_type": "markdown",
      "source": [
        "Let's Review"
      ],
      "metadata": {
        "id": "V9wJiN71jy0u"
      },
      "id": "V9wJiN71jy0u"
    },
    {
      "cell_type": "code",
      "execution_count": null,
      "id": "4ee0d1de-b752-4504-bb51-267cf05072d9",
      "metadata": {
        "id": "4ee0d1de-b752-4504-bb51-267cf05072d9"
      },
      "outputs": [],
      "source": [
        "\n",
        "T = int(input())\n",
        "for i in range (0,T):\n",
        "    Si = str(input())\n",
        "    Ni = len(Si)\n",
        "    out1 = \"\"\n",
        "    out2 = \"\"\n",
        "    for j in range(0, Ni):\n",
        "        if j%2 == 0:\n",
        "            out1 += Si[j]\n",
        "        else:\n",
        "            out2 +=Si[j]\n",
        "    print(out1,out2)"
      ]
    },
    {
      "cell_type": "markdown",
      "source": [
        "Grading Students"
      ],
      "metadata": {
        "id": "ws4AnoX8j1Z3"
      },
      "id": "ws4AnoX8j1Z3"
    },
    {
      "cell_type": "code",
      "execution_count": null,
      "id": "b3fea6b2-d3af-454a-9698-bf1ca02a0a6c",
      "metadata": {
        "id": "b3fea6b2-d3af-454a-9698-bf1ca02a0a6c"
      },
      "outputs": [],
      "source": [
        "\n",
        "\n",
        "def gradingStudents(grades):\n",
        "    for i in range(0, grades_count):\n",
        "        if grades[i] >= 38:\n",
        "            for j in range(1,3):\n",
        "                gr_new = (grades[i] + j) % 5\n",
        "                if gr_new == 0:\n",
        "                    grades[i] += j\n",
        "    return grades\n",
        "\n",
        "if __name__ == '__main__':\n",
        "    fptr = open(os.environ['OUTPUT_PATH'], 'w')\n",
        "\n",
        "    grades_count = int(input().strip())\n",
        "\n",
        "    grades = []\n",
        "\n",
        "    for _ in range(grades_count):\n",
        "        grades_item = int(input().strip())\n",
        "        grades.append(grades_item)\n",
        "\n",
        "    result = gradingStudents(grades)\n",
        "\n",
        "    fptr.write('\\n'.join(map(str, result)))\n",
        "    fptr.write('\\n')\n",
        "\n",
        "    fptr.close()\n",
        "\n"
      ]
    },
    {
      "cell_type": "markdown",
      "source": [
        "Strong Password"
      ],
      "metadata": {
        "id": "Q1iWzVeoj5Zg"
      },
      "id": "Q1iWzVeoj5Zg"
    },
    {
      "cell_type": "code",
      "execution_count": null,
      "id": "c16bca1f-d14a-4099-8525-e29cf54cee85",
      "metadata": {
        "id": "c16bca1f-d14a-4099-8525-e29cf54cee85"
      },
      "outputs": [],
      "source": [
        "\n",
        "\n",
        "import math\n",
        "import os\n",
        "import random\n",
        "import re\n",
        "import sys\n",
        "\n",
        "password = str(input())\n",
        "n = len(password)\n",
        "sp_char = list(\"!@#$%^&*()-+\")\n",
        "\n",
        "m = 0\n",
        "u = 0\n",
        "l = 0\n",
        "nu = 0\n",
        "s = 0\n",
        "\n",
        "for i in range(0,n):\n",
        "    if password[i].isupper() is True:\n",
        "        u += 1\n",
        "    if password[i].islower() is True:\n",
        "        l += 1\n",
        "    if password[i].isdigit() is True:\n",
        "        nu += 1\n",
        "    if password[i] in sp_char:\n",
        "        s += 1\n",
        "\n",
        "if u == 0:\n",
        "    m += 1\n",
        "if l == 0:\n",
        "    m += 1\n",
        "if nu == 0:\n",
        "    m += 1\n",
        "if s == 0:\n",
        "    m += 1\n",
        "\n",
        "if (n + m) < 6:\n",
        "    min_num = (6-(n+m)) + m\n",
        "else:\n",
        "    min_num = m\n",
        "\n",
        "print (min_num)\n",
        "\n"
      ]
    },
    {
      "cell_type": "markdown",
      "source": [
        "Reverse Arrays"
      ],
      "metadata": {
        "id": "k27rJ2rDj9yE"
      },
      "id": "k27rJ2rDj9yE"
    },
    {
      "cell_type": "code",
      "execution_count": null,
      "id": "bbe5e567-2ea8-4705-85f7-0895ff7b7c58",
      "metadata": {
        "id": "bbe5e567-2ea8-4705-85f7-0895ff7b7c58"
      },
      "outputs": [],
      "source": [
        "\n",
        "\n",
        "def arrays(n,arr):\n",
        "    arr_rev = []\n",
        "    for i in reversed(arr):\n",
        "        arr_rev.append(i)\n",
        "    print (\" \".join(map(str,arr_rev)))\n",
        "\n",
        "if __name__ == '__main__':\n",
        "    n = int(input().strip())\n",
        "\n",
        "    arr = list(map(int, input().rstrip().split()))\n",
        "    arrays(n,arr)"
      ]
    },
    {
      "cell_type": "markdown",
      "source": [
        "Reverse Arrays_1"
      ],
      "metadata": {
        "id": "dGI8xDP5kBJs"
      },
      "id": "dGI8xDP5kBJs"
    },
    {
      "cell_type": "code",
      "execution_count": null,
      "id": "87b0d2fd-e479-4509-b185-c3cbf431c2a2",
      "metadata": {
        "id": "87b0d2fd-e479-4509-b185-c3cbf431c2a2"
      },
      "outputs": [],
      "source": [
        "\n",
        "\n",
        "def arrays(n,arr):\n",
        "    arr_rev = []\n",
        "    for i in range(1,n+1):\n",
        "        arr_rev.append(arr[-i])\n",
        "    print (\" \".join(map(str,arr_rev)))\n",
        "\n",
        "if __name__ == '__main__':\n",
        "    n = int(input().strip())\n",
        "\n",
        "    arr = list(map(int, input().rstrip().split()))\n",
        "    arrays(n,arr)"
      ]
    },
    {
      "cell_type": "markdown",
      "source": [
        "Number Line Jump"
      ],
      "metadata": {
        "id": "bFzc2TfukEay"
      },
      "id": "bFzc2TfukEay"
    },
    {
      "cell_type": "code",
      "execution_count": null,
      "id": "c0d59077-7a58-4009-bc16-47a69b6cf45c",
      "metadata": {
        "id": "c0d59077-7a58-4009-bc16-47a69b6cf45c"
      },
      "outputs": [],
      "source": [
        "\n",
        "def kangaroo(x1, v1, x2, v2):\n",
        "    if ((x1 > x2) and (v1 >= v2)) or ((x2 > x1) and (v2 >= v1)):\n",
        "        return \"NO\"\n",
        "    if (x2 - x1) % (v1 - v2) == 0:\n",
        "        return \"YES\"\n",
        "    else:\n",
        "        return \"NO\"\n",
        "\n",
        "if __name__ == '__main__':\n",
        "    fptr = open(os.environ['OUTPUT_PATH'], 'w')\n",
        "\n",
        "    first_multiple_input = input().rstrip().split()\n",
        "\n",
        "    x1 = int(first_multiple_input[0])\n",
        "\n",
        "    v1 = int(first_multiple_input[1])\n",
        "\n",
        "    x2 = int(first_multiple_input[2])\n",
        "\n",
        "    v2 = int(first_multiple_input[3])\n",
        "\n",
        "    result = kangaroo(x1, v1, x2, v2)\n",
        "\n",
        "    fptr.write(result + '\\n')\n",
        "\n",
        "    fptr.close()\n"
      ]
    },
    {
      "cell_type": "markdown",
      "source": [
        "Dictionaries and Maps\n"
      ],
      "metadata": {
        "id": "SGRbLRLBkIgy"
      },
      "id": "SGRbLRLBkIgy"
    },
    {
      "cell_type": "code",
      "execution_count": null,
      "id": "eb477dd3-7e9d-43d8-a1b6-0e0bfc807e3d",
      "metadata": {
        "id": "eb477dd3-7e9d-43d8-a1b6-0e0bfc807e3d"
      },
      "outputs": [],
      "source": [
        "\n",
        "def queries(phonebook, names):\n",
        "    l = len(names)\n",
        "    for i in range (0,l):\n",
        "        if names[i] in phonebook:\n",
        "            result = names[i],\"=\",phonebook[names[i]]\n",
        "        else:\n",
        "            result = \"Not found\"\n",
        "        print(\"\".join(result))\n",
        "\n",
        "if __name__ == '__main__':\n",
        "\n",
        "    n = int(input().strip())\n",
        "    phonebook ={}\n",
        "\n",
        "    for _ in range(0,n):\n",
        "        enteries = input().split()\n",
        "        phonebook.update({enteries[0]:enteries[1]})\n",
        "\n",
        "    names = []\n",
        "    while True:\n",
        "        try:\n",
        "            name = input()\n",
        "            if name:\n",
        "                names.append(name)\n",
        "            else:\n",
        "                break\n",
        "        except EOFError:\n",
        "                break\n",
        "\n",
        "    queries(phonebook, names)"
      ]
    },
    {
      "cell_type": "markdown",
      "source": [
        "Binary Numbers"
      ],
      "metadata": {
        "id": "xRPL7ZVpkO1M"
      },
      "id": "xRPL7ZVpkO1M"
    },
    {
      "cell_type": "code",
      "execution_count": null,
      "id": "2bfe894c-235d-4d7f-be1a-dd1da13dbde5",
      "metadata": {
        "id": "2bfe894c-235d-4d7f-be1a-dd1da13dbde5",
        "outputId": "78ec8bd5-8c44-46d9-fd7b-340718434138"
      },
      "outputs": [
        {
          "name": "stdin",
          "output_type": "stream",
          "text": [
            " 54\n"
          ]
        },
        {
          "name": "stdout",
          "output_type": "stream",
          "text": [
            "2\n"
          ]
        }
      ],
      "source": [
        "\n",
        "def binary(n):\n",
        "    b = bin(n)[2:]\n",
        "    l = len(b)\n",
        "    count = 0\n",
        "    max_count = 0\n",
        "    for i in range(0,l):\n",
        "        if b[i] == '1':\n",
        "            count += 1\n",
        "            if max_count < count:\n",
        "                max_count = count\n",
        "        else:\n",
        "            count = 0\n",
        "    print(max_count)\n",
        "\n",
        "\n",
        "if __name__ == '__main__':\n",
        "    n = int(input().strip())\n",
        "    binary(n)"
      ]
    },
    {
      "cell_type": "markdown",
      "source": [
        "2D Arrays"
      ],
      "metadata": {
        "id": "DdivCeljkS3O"
      },
      "id": "DdivCeljkS3O"
    },
    {
      "cell_type": "code",
      "execution_count": null,
      "id": "038292b4-dbc9-4ea9-90a6-627d0f939984",
      "metadata": {
        "id": "038292b4-dbc9-4ea9-90a6-627d0f939984"
      },
      "outputs": [],
      "source": [
        "\n",
        "import math\n",
        "import os\n",
        "import random\n",
        "import re\n",
        "import sys\n",
        "\n",
        "def hourglass(arr):\n",
        "    r = len(arr)\n",
        "    c = len(arr[0])\n",
        "    for i in range (0,c-2):\n",
        "        for j in range (0,r-2):\n",
        "            sum_hg = arr[j][i]+arr[j][i+1]+arr[j][i+2]+arr[j+1][i+1]+arr[j+2][i]+arr[j+2][i+1]+arr[j+2][i+2]\n",
        "            if i == 0 and j== 0:\n",
        "                max_sum = sum_hg\n",
        "            else:\n",
        "                if max_sum < sum_hg:\n",
        "                    max_sum = sum_hg\n",
        "    print (max_sum)\n",
        "\n",
        "if __name__ == '__main__':\n",
        "\n",
        "    arr = []\n",
        "\n",
        "    for _ in range(6):\n",
        "        arr.append(list(map(int, input().rstrip().split())))\n",
        "\n",
        "    hourglass(arr)\n",
        "\n",
        ""
      ]
    },
    {
      "cell_type": "markdown",
      "source": [
        "Inheritance"
      ],
      "metadata": {
        "id": "la8_7FC-kWk-"
      },
      "id": "la8_7FC-kWk-"
    },
    {
      "cell_type": "code",
      "execution_count": null,
      "id": "4cdbc931-117b-46cc-baf6-40455253c983",
      "metadata": {
        "id": "4cdbc931-117b-46cc-baf6-40455253c983"
      },
      "outputs": [],
      "source": [
        "\n",
        "class Person:\n",
        "\tdef __init__(self, firstName, lastName, idNumber):\n",
        "\t\tself.firstName = firstName\n",
        "\t\tself.lastName = lastName\n",
        "\t\tself.idNumber = idNumber\n",
        "\tdef printPerson(self):\n",
        "\t\tprint(\"Name:\", self.lastName + \",\", self.firstName)\n",
        "\t\tprint(\"ID:\", self.idNumber)\n",
        "\n",
        "class Student(Person):\n",
        "    def __init__(self,firstName, lastName, idNumber, scores):\n",
        "        super().__init__(firstName, lastName, idNumber)\n",
        "        self.scores = scores\n",
        "    def calculate(self):\n",
        "        avg_score = sum(s.scores)/numScores\n",
        "        if avg_score >=90 and avg_score <= 100:\n",
        "            return \"O\"\n",
        "        if avg_score >=80:\n",
        "            return \"E\"\n",
        "        if avg_score >=70:\n",
        "            return \"A\"\n",
        "        if avg_score >=55:\n",
        "            return \"P\"\n",
        "        if avg_score >=40:\n",
        "            return \"D\"\n",
        "        if avg_score < 40:\n",
        "            return \"T\"\n",
        "\n",
        "\n",
        "line = input().split()\n",
        "firstName = line[0]\n",
        "lastName = line[1]\n",
        "idNum = line[2]\n",
        "numScores = int(input()) # not needed for Python\n",
        "scores = list( map(int, input().split()) )\n",
        "s = Student(firstName, lastName, idNum, scores)\n",
        "s.printPerson()\n",
        "print(\"Grade:\", s.calculate())"
      ]
    },
    {
      "cell_type": "markdown",
      "source": [
        "Mars Exploration"
      ],
      "metadata": {
        "id": "rMbEc9zpkbX9"
      },
      "id": "rMbEc9zpkbX9"
    },
    {
      "cell_type": "code",
      "execution_count": null,
      "id": "3b2af203-3c07-4977-91e0-1518d7975690",
      "metadata": {
        "id": "3b2af203-3c07-4977-91e0-1518d7975690"
      },
      "outputs": [],
      "source": [
        "def marsExploration(s):\n",
        "    l = len(s)\n",
        "    txt = \"SOS\"\n",
        "    count = 0\n",
        "    for i in range(0,l):\n",
        "        if s[i] != txt[i%3]:\n",
        "            count += 1\n",
        "    return count\n",
        "\n",
        "\n",
        "if __name__ == '__main__':\n",
        "    fptr = open(os.environ['OUTPUT_PATH'], 'w')\n",
        "\n",
        "    s = input()\n",
        "\n",
        "    result = marsExploration(s)\n",
        "\n",
        "    fptr.write(str(result) + '\\n')\n",
        "\n",
        "    fptr.close()"
      ]
    },
    {
      "cell_type": "markdown",
      "source": [
        "Mars Exploration"
      ],
      "metadata": {
        "id": "y8bPcpi-kelc"
      },
      "id": "y8bPcpi-kelc"
    },
    {
      "cell_type": "code",
      "execution_count": null,
      "id": "d331cb74-03d6-4b26-9139-c55c0ab7c762",
      "metadata": {
        "id": "d331cb74-03d6-4b26-9139-c55c0ab7c762"
      },
      "outputs": [],
      "source": [
        "\n",
        "def marsExploration(s):\n",
        "    l = len(s)\n",
        "    txt = \"SOS\"\n",
        "    count = 0\n",
        "    j = 0\n",
        "    for i in range(0,l):\n",
        "        if s[i] != txt[j]:\n",
        "            count += 1\n",
        "        j += 1\n",
        "        if j == 3:\n",
        "            j=0\n",
        "    return count\n",
        "\n",
        "\n",
        "if __name__ == '__main__':\n",
        "    fptr = open(os.environ['OUTPUT_PATH'], 'w')\n",
        "\n",
        "    s = input()\n",
        "\n",
        "    result = marsExploration(s)\n",
        "\n",
        "    fptr.write(str(result) + '\\n')\n",
        "\n",
        "    fptr.close()\n"
      ]
    },
    {
      "cell_type": "markdown",
      "source": [
        "Designer PDF Viewer"
      ],
      "metadata": {
        "id": "Pn1fRb0Mkifz"
      },
      "id": "Pn1fRb0Mkifz"
    },
    {
      "cell_type": "code",
      "execution_count": null,
      "id": "eaa1d001-6cae-42b5-92b5-4e5ba4db5c62",
      "metadata": {
        "id": "eaa1d001-6cae-42b5-92b5-4e5ba4db5c62"
      },
      "outputs": [],
      "source": [
        "\n",
        "def designerPdfViewer(h, word):\n",
        "    alp = string.ascii_lowercase\n",
        "    l=len(word)\n",
        "    max_hgt = 0\n",
        "    for i in range(0,l):\n",
        "        hgt = h[alp.index(word[i])]\n",
        "        if max_hgt < hgt:\n",
        "            max_hgt = hgt\n",
        "    area = l * max_hgt\n",
        "    return area\n",
        "\n",
        "if __name__ == '__main__':\n",
        "    fptr = open(os.environ['OUTPUT_PATH'], 'w')\n",
        "\n",
        "    h = list(map(int, input().rstrip().split()))\n",
        "\n",
        "    word = input()\n",
        "\n",
        "    result = designerPdfViewer(h, word)\n",
        "\n",
        "    fptr.write(str(result) + '\\n')\n",
        "\n",
        "    fptr.close()"
      ]
    },
    {
      "cell_type": "markdown",
      "source": [
        "Circular Array Rotation"
      ],
      "metadata": {
        "id": "6ExsQwGLklge"
      },
      "id": "6ExsQwGLklge"
    },
    {
      "cell_type": "code",
      "execution_count": null,
      "id": "aa3bfd21-c29b-44a3-a77c-52a3a575cdf4",
      "metadata": {
        "id": "aa3bfd21-c29b-44a3-a77c-52a3a575cdf4"
      },
      "outputs": [],
      "source": [
        "\n",
        "def circularArrayRotation(a, k, queries):\n",
        "    res = []\n",
        "    for qr in queries:\n",
        "        res.append(a[(qr-k)%n])\n",
        "    return res\n",
        "\n",
        "\n",
        "if __name__ == '__main__':\n",
        "    fptr = open(os.environ['OUTPUT_PATH'], 'w')\n",
        "\n",
        "    first_multiple_input = input().rstrip().split()\n",
        "\n",
        "    n = int(first_multiple_input[0])\n",
        "\n",
        "    k = int(first_multiple_input[1])\n",
        "\n",
        "    q = int(first_multiple_input[2])\n",
        "\n",
        "    a = list(map(int, input().rstrip().split()))\n",
        "\n",
        "    queries = []\n",
        "\n",
        "    for _ in range(q):\n",
        "        queries_item = int(input().strip())\n",
        "        queries.append(queries_item)\n",
        "\n",
        "    result = circularArrayRotation(a, k, queries)\n",
        "\n",
        "    fptr.write('\\n'.join(map(str, result)))\n",
        "    fptr.write('\\n')\n",
        "\n",
        "    fptr.close()\n"
      ]
    },
    {
      "cell_type": "markdown",
      "source": [
        " Between Two Sets find the count if integers that is factors of b, and multiples of a"
      ],
      "metadata": {
        "id": "V8r6oLw5kp18"
      },
      "id": "V8r6oLw5kp18"
    },
    {
      "cell_type": "code",
      "execution_count": null,
      "id": "c697893b-07c7-42b4-b3f6-56b2a244ed9d",
      "metadata": {
        "id": "c697893b-07c7-42b4-b3f6-56b2a244ed9d"
      },
      "outputs": [],
      "source": [
        "\n",
        "def getTotalX(a, b):\n",
        "    def lcm(num1, num2):\n",
        "        if num1>num2:\n",
        "            g = num1\n",
        "            s = num2\n",
        "        else:\n",
        "            g = num1\n",
        "            s = num2\n",
        "        r = g%s\n",
        "        while (r !=0):\n",
        "            g = s\n",
        "            s = r\n",
        "            r = g%s\n",
        "        gcd = s\n",
        "        lcm = (num1*num2)/gcd\n",
        "        return int(lcm)\n",
        "    if n>1:\n",
        "        lcm_a = lcm(a[0],a[1])\n",
        "        for i in range(2,n):\n",
        "            lcm_a = lcm(lcm_a,a[i])\n",
        "    else:\n",
        "        lcm_a = a[0]\n",
        "\n",
        "    def gcd(num1, num2):\n",
        "        if num1>num2:\n",
        "            gr = num1\n",
        "            sm = num2\n",
        "        else:\n",
        "            gr = num1\n",
        "            sm = num2\n",
        "        rem = gr%sm\n",
        "        while (rem !=0):\n",
        "            gr = sm\n",
        "            sm = rem\n",
        "            rem = gr%sm\n",
        "        gcd = sm\n",
        "        return int(gcd)\n",
        "    if m>1:\n",
        "        gcd_b = gcd(b[0],b[1])\n",
        "        for j in range(2,m):\n",
        "            gcd_b = gcd(gcd_b,b[j])\n",
        "    else:\n",
        "        gcd_b = b[0]\n",
        "\n",
        "    count = 0\n",
        "    for k in range(lcm_a,gcd_b+1,lcm_a):\n",
        "        if gcd_b % k == 0:\n",
        "            count += 1\n",
        "    return count\n",
        "\n",
        "\n",
        "if __name__ == '__main__':\n",
        "    fptr = open(os.environ['OUTPUT_PATH'], 'w')\n",
        "\n",
        "    first_multiple_input = input().rstrip().split()\n",
        "\n",
        "    n = int(first_multiple_input[0])\n",
        "\n",
        "    m = int(first_multiple_input[1])\n",
        "\n",
        "    arr = list(map(int, input().rstrip().split()))\n",
        "\n",
        "    brr = list(map(int, input().rstrip().split()))\n",
        "\n",
        "    total = getTotalX(arr, brr)\n",
        "\n",
        "    fptr.write(str(total) + '\\n')\n",
        "\n",
        "    fptr.close()\n"
      ]
    },
    {
      "cell_type": "markdown",
      "source": [
        "Scope"
      ],
      "metadata": {
        "id": "uL5j_LDGkwVN"
      },
      "id": "uL5j_LDGkwVN"
    },
    {
      "cell_type": "code",
      "execution_count": null,
      "id": "a29f8785-0170-4598-aeb6-4f10ceaa74f0",
      "metadata": {
        "id": "a29f8785-0170-4598-aeb6-4f10ceaa74f0"
      },
      "outputs": [],
      "source": [
        "\n",
        "class Difference:\n",
        "    def __init__(self, a):\n",
        "        self.__elements = a\n",
        "    def computeDifference(self):\n",
        "        mx = max(self.__elements)\n",
        "        mn = min(self.__elements)\n",
        "        self.maximumDifference = mx-mn\n",
        "        return self.maximumDifference\n",
        "\n",
        "\n",
        "_ = input()\n",
        "a = [int(e) for e in input().split(' ')]\n",
        "\n",
        "d = Difference(a)\n",
        "d.computeDifference()\n",
        "\n",
        "print(d.maximumDifference)"
      ]
    },
    {
      "cell_type": "markdown",
      "source": [
        "Linked list"
      ],
      "metadata": {
        "id": "U0Bo5jF1kz8K"
      },
      "id": "U0Bo5jF1kz8K"
    },
    {
      "cell_type": "code",
      "execution_count": null,
      "id": "bb6bbf15-3566-405f-a341-cf0ea1e036cf",
      "metadata": {
        "id": "bb6bbf15-3566-405f-a341-cf0ea1e036cf"
      },
      "outputs": [],
      "source": [
        "\n",
        "class Node:\n",
        "    def __init__(self,data):\n",
        "        self.data = data\n",
        "        self.next = None\n",
        "class Solution:\n",
        "    def display(self,head):\n",
        "        current = head\n",
        "        while current:\n",
        "            print(current.data,end=' ')\n",
        "            current = current.next\n",
        "\n",
        "    def insert(self,head,data):\n",
        "        in_data = Node(data)\n",
        "        if head is None:\n",
        "            head = in_data\n",
        "        else:\n",
        "            temp = head\n",
        "            while temp.next is not None:\n",
        "                temp = temp.next    #traverse to the ed of the list\n",
        "            temp.next = in_data     #insert the data to the tail of the list\n",
        "        return head\n",
        "\n",
        "\n",
        "\n",
        "mylist= Solution() #object created for linked list\n",
        "T=int(input())\n",
        "head=None\n",
        "for i in range(T):\n",
        "    data=int(input())\n",
        "    head=mylist.insert(head,data)\n",
        "mylist.display(head)"
      ]
    },
    {
      "cell_type": "markdown",
      "source": [
        "Abstract Class"
      ],
      "metadata": {
        "id": "kzxPdF92k3US"
      },
      "id": "kzxPdF92k3US"
    },
    {
      "cell_type": "code",
      "execution_count": null,
      "id": "70295cdc-9010-42ba-acf0-5f9019c03cc6",
      "metadata": {
        "id": "70295cdc-9010-42ba-acf0-5f9019c03cc6"
      },
      "outputs": [],
      "source": [
        "from abc import ABCMeta, abstractmethod\n",
        "class Book(object, metaclass=ABCMeta):\n",
        "    def __init__(self,title,author):\n",
        "        self.title=title\n",
        "        self.author=author\n",
        "    @abstractmethod\n",
        "    def display(): pass\n",
        "\n",
        "#Write MyBook class\n",
        "class MyBook(Book):\n",
        "    def __init__(self,title,author,price):\n",
        "        super().__init__(title,author)\n",
        "        self.price = price\n",
        "    def display(self):\n",
        "        print(\"Title:\", title)\n",
        "        print(\"Author:\",author)\n",
        "        print(\"Price:\", price)\n",
        "\n",
        "\n",
        "title=input()\n",
        "author=input()\n",
        "price=int(input())\n",
        "new_novel=MyBook(title,author,price)\n",
        "new_novel.display()"
      ]
    },
    {
      "cell_type": "markdown",
      "source": [
        "Exceptions - String to Integer"
      ],
      "metadata": {
        "id": "1VJGlSRVk6Fp"
      },
      "id": "1VJGlSRVk6Fp"
    },
    {
      "cell_type": "code",
      "source": [],
      "metadata": {
        "id": "zYW6WJdtiTYh"
      },
      "id": "zYW6WJdtiTYh",
      "execution_count": null,
      "outputs": []
    },
    {
      "cell_type": "markdown",
      "source": [],
      "metadata": {
        "id": "RaqILK16iUBK"
      },
      "id": "RaqILK16iUBK"
    }
  ],
  "metadata": {
    "kernelspec": {
      "display_name": "Python [conda env:base] *",
      "language": "python",
      "name": "conda-base-py"
    },
    "language_info": {
      "codemirror_mode": {
        "name": "ipython",
        "version": 3
      },
      "file_extension": ".py",
      "mimetype": "text/x-python",
      "name": "python",
      "nbconvert_exporter": "python",
      "pygments_lexer": "ipython3",
      "version": "3.12.4"
    },
    "colab": {
      "provenance": [],
      "include_colab_link": true
    }
  },
  "nbformat": 4,
  "nbformat_minor": 5
}